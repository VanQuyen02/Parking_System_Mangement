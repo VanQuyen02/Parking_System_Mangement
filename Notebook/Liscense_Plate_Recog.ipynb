{
  "nbformat": 4,
  "nbformat_minor": 0,
  "metadata": {
    "colab": {
      "private_outputs": true,
      "provenance": [],
      "gpuType": "T4"
    },
    "kernelspec": {
      "name": "python3",
      "display_name": "Python 3"
    },
    "language_info": {
      "name": "python"
    },
    "accelerator": "GPU"
  },
  "cells": [
    {
      "cell_type": "markdown",
      "source": [
        "# LP Detection"
      ],
      "metadata": {
        "id": "UV46y700aQvd"
      }
    },
    {
      "cell_type": "code",
      "source": [
        "from google.colab import drive\n",
        "drive.mount('/content/drive')"
      ],
      "metadata": {
        "id": "5J5F6SDFbLh3"
      },
      "execution_count": null,
      "outputs": []
    },
    {
      "cell_type": "code",
      "source": [
        "!cd /content/drive/MyDrive"
      ],
      "metadata": {
        "id": "yZTJZdAsTsbC"
      },
      "execution_count": null,
      "outputs": []
    },
    {
      "cell_type": "code",
      "source": [
        "!git clone https://github.com/WongKinYiu/yolov7.git"
      ],
      "metadata": {
        "id": "7-w_KhFWUUve"
      },
      "execution_count": null,
      "outputs": []
    },
    {
      "cell_type": "code",
      "execution_count": null,
      "metadata": {
        "id": "y2Do8oz3tcxW"
      },
      "outputs": [],
      "source": [
        "!unrar x \"/content/drive/MyDrive/lp_detection.rar\" \"/content/drive/MyDrive/yolov7\""
      ]
    },
    {
      "cell_type": "code",
      "source": [
        "%cd /content/drive/MyDrive/yolov7\n",
        "!pip install -r requirements.txt"
      ],
      "metadata": {
        "id": "A4KKZeYjVhqt"
      },
      "execution_count": null,
      "outputs": []
    },
    {
      "cell_type": "code",
      "source": [
        "%cd /content/drive/MyDrive/yolov7\n",
        "!rm data/lp_det.yaml # nếu có\n",
        "!echo 'train: ./lp_detection/train' >> data/lp_det.yaml\n",
        "!echo 'val: ./lp_detection/valid' >> data/lp_det.yaml\n",
        "!echo 'test: ./lp_detection/test' >> data/lp_det.yaml\n",
        "!echo 'nc: 1' >> data/lp_det.yaml\n",
        "!echo \"names: ['plate']\" >> data/lp_det.yaml"
      ],
      "metadata": {
        "id": "gjD0BHy0XHL7"
      },
      "execution_count": null,
      "outputs": []
    },
    {
      "cell_type": "code",
      "source": [
        "cd /content/drive/MyDrive/yolov7"
      ],
      "metadata": {
        "id": "VaSZhX0GXLvl"
      },
      "execution_count": null,
      "outputs": []
    },
    {
      "cell_type": "code",
      "source": [
        "!mkdir pretrain\n",
        "%cd pretrain\n",
        "!wget https://github.com/WongKinYiu/yolov7/releases/download/v0.1/yolov7.pt"
      ],
      "metadata": {
        "id": "gKiOA_d9XRJf"
      },
      "execution_count": null,
      "outputs": []
    },
    {
      "cell_type": "code",
      "source": [
        "cd /content/drive/MyDrive/yolov7"
      ],
      "metadata": {
        "id": "tzyg5ApwcHrc"
      },
      "execution_count": null,
      "outputs": []
    },
    {
      "cell_type": "code",
      "source": [
        "!python train.py --batch 16 --cfg cfg/training/yolov7.yaml --epochs 35 --data /content/drive/MyDrive/yolov7/data/lp_det.yaml --weights 'pretrain/yolov7.pt'\n"
      ],
      "metadata": {
        "id": "F8DkIgKWXR4G"
      },
      "execution_count": null,
      "outputs": []
    },
    {
      "cell_type": "code",
      "source": [
        "%cd /content/drive/MyDrive/yolov7\n",
        "!rm data/lp_det.yaml # nếu có\n",
        "!echo 'train: ./lp_detection/train' >> data/lp_det.yaml\n",
        "!echo 'val: ./lp_detection/test' >> data/lp_det.yaml\n",
        "!echo 'nc: 1' >> data/lp_det.yaml\n",
        "!echo \"names: ['plate']\" >> data/lp_det.yaml"
      ],
      "metadata": {
        "id": "KGHKQlMot8AF"
      },
      "execution_count": null,
      "outputs": []
    },
    {
      "cell_type": "code",
      "source": [
        "!python test.py --data data/lp_det.yaml --img 640 --batch 16 --iou-thres 0.6 --device 0 --weights /content/drive/MyDrive/yolov7/runs/train/exp/weights/best.pt\n"
      ],
      "metadata": {
        "id": "br1Eju-AXWE0"
      },
      "execution_count": null,
      "outputs": []
    },
    {
      "cell_type": "markdown",
      "source": [
        "# OCR"
      ],
      "metadata": {
        "id": "ByQKHVApaYz8"
      }
    },
    {
      "cell_type": "markdown",
      "source": [],
      "metadata": {
        "id": "B3R_pMIHr1-i"
      }
    },
    {
      "cell_type": "code",
      "source": [
        "!unrar x \"/content/drive/MyDrive/ocr.rar\" \"/content/drive/MyDrive/yolov7\""
      ],
      "metadata": {
        "id": "eXQ6mS-FaYWF"
      },
      "execution_count": null,
      "outputs": []
    },
    {
      "cell_type": "code",
      "source": [
        "%cd /content/drive/MyDrive/yolov7\n",
        "!rm data/ocr.yaml # nếu có\n",
        "!echo 'train: ./ocr/train' >> data/ocr.yaml\n",
        "!echo 'val: ./ocr/valid' >> data/ocr.yaml\n",
        "!echo 'test: ./ocr/test' >> data/ocr.yaml\n",
        "!echo 'nc: 36' >> data/ocr.yaml\n",
        "!echo \"names: ['0','1','2','3','4','5','6','7','8','9','A','B','C','D','E','F','G','H','I','J','K','L','M','N','O','P','Q','R','S','T','U','V','W','X','Y','Z']\" >> data/ocr.yaml"
      ],
      "metadata": {
        "id": "nt1SNsj2afO7"
      },
      "execution_count": null,
      "outputs": []
    },
    {
      "cell_type": "code",
      "source": [
        "cd /content/drive/MyDrive/yolov7"
      ],
      "metadata": {
        "id": "4sfoTKqyafJ4"
      },
      "execution_count": null,
      "outputs": []
    },
    {
      "cell_type": "code",
      "source": [
        "!python train.py --batch 16 --cfg cfg/training/yolov7.yaml --epochs 80 --data /content/drive/MyDrive/yolov7/data/ocr.yaml --weights 'pretrain/yolov7.pt'\n"
      ],
      "metadata": {
        "id": "YUVPe6Ugakaw"
      },
      "execution_count": null,
      "outputs": []
    },
    {
      "cell_type": "code",
      "source": [
        "!python test.py --data data/ocr.yaml --img 640 --batch 16 --iou-thres 0.6 --device 0 --weights /content/drive/MyDrive/yolov7/runs/train/exp3/weights/best.pt\n"
      ],
      "metadata": {
        "id": "nHFoah00akVV"
      },
      "execution_count": null,
      "outputs": []
    },
    {
      "cell_type": "code",
      "source": [],
      "metadata": {
        "id": "JWx2Rx_L9fbW"
      },
      "execution_count": null,
      "outputs": []
    }
  ]
}